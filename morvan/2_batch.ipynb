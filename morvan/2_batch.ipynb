{
 "cells": [
  {
   "cell_type": "code",
   "execution_count": 1,
   "metadata": {
    "collapsed": true
   },
   "outputs": [],
   "source": [
    "import torch\n",
    "import torch.utils.data as Data"
   ]
  },
  {
   "cell_type": "code",
   "execution_count": 7,
   "metadata": {
    "collapsed": false
   },
   "outputs": [],
   "source": [
    "# 定义和打包训练数据\n",
    "x = torch.linspace(1, 10, 10)\n",
    "y = torch.linspace(10, 1, 10)\n",
    "\n",
    "torch_dataset = Data.TensorDataset(x, y)\n",
    "loader = Data.DataLoader(\n",
    "    dataset=torch_dataset,\n",
    "    batch_size=6,  # 分批次训练，比如以6个数据点为一批\n",
    "    shuffle=True,  # 每轮训练都打乱数据点的加载顺序\n",
    "    num_workers=2\n",
    ")"
   ]
  },
  {
   "cell_type": "code",
   "execution_count": 9,
   "metadata": {
    "collapsed": false
   },
   "outputs": [
    {
     "name": "stdout",
     "output_type": "stream",
     "text": [
      "Epoch:  0 | Step:  0 | batch x:  [ 8.  4.  5.  9. 10.  2.] | batch_y:  [3. 7. 6. 2. 1. 9.]\n",
      "Epoch:  0 | Step:  1 | batch x:  [1. 7. 3. 6.] | batch_y:  [10.  4.  8.  5.]\n",
      "Epoch:  1 | Step:  0 | batch x:  [ 9.  8.  2.  6.  3. 10.] | batch_y:  [2. 3. 9. 5. 8. 1.]\n",
      "Epoch:  1 | Step:  1 | batch x:  [5. 4. 1. 7.] | batch_y:  [ 6.  7. 10.  4.]\n",
      "Epoch:  2 | Step:  0 | batch x:  [ 2.  6. 10.  4.  1.  7.] | batch_y:  [ 9.  5.  1.  7. 10.  4.]\n",
      "Epoch:  2 | Step:  1 | batch x:  [9. 8. 5. 3.] | batch_y:  [2. 3. 6. 8.]\n"
     ]
    }
   ],
   "source": [
    "for epoch in range(3):\n",
    "    for step, (batch_x, batch_y) in enumerate(loader):\n",
    "        # training (pretend)\n",
    "        print('Epoch: ', epoch, '| Step: ', step, '| batch x: ', \n",
    "              batch_x.numpy(), '| batch_y: ', batch_y.numpy())"
   ]
  }
 ],
 "metadata": {
  "kernelspec": {
   "display_name": "Python 3",
   "language": "python",
   "name": "python3"
  },
  "language_info": {
   "codemirror_mode": {
    "name": "ipython",
    "version": 3
   },
   "file_extension": ".py",
   "mimetype": "text/x-python",
   "name": "python",
   "nbconvert_exporter": "python",
   "pygments_lexer": "ipython3",
   "version": "3.6.8"
  }
 },
 "nbformat": 4,
 "nbformat_minor": 2
}
