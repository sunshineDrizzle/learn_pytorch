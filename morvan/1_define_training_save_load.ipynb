{
 "cells": [
  {
   "cell_type": "code",
   "execution_count": 54,
   "metadata": {
    "collapsed": true
   },
   "outputs": [],
   "source": [
    "import torch\n",
    "import torch.nn.functional as F\n",
    "import matplotlib.pyplot as plt\n",
    "%matplotlib inline"
   ]
  },
  {
   "cell_type": "markdown",
   "metadata": {},
   "source": [
    "# 自定义模型并训练参数"
   ]
  },
  {
   "cell_type": "code",
   "execution_count": 1,
   "metadata": {
    "collapsed": false
   },
   "outputs": [],
   "source": [
    "# 制作训练数据\n",
    "x = torch.unsqueeze(torch.linspace(-1, 1, 100), dim=1)\n",
    "y = x.pow(2) + 0.2*torch.rand(x.size())\n",
    "print(x.requires_grad, y.requires_grad)\n",
    "x.requires_grad_(True)\n",
    "# y.requires_grad_(True)  # 这个不需要反向传递\n",
    "print(x.requires_grad, y.requires_grad)\n",
    "plt.scatter(x.data.numpy(), y.numpy())"
   ]
  },
  {
   "cell_type": "code",
   "execution_count": 2,
   "metadata": {
    "collapsed": false
   },
   "outputs": [],
   "source": [
    "# 自定义模型\n",
    "class Net(torch.nn.Module):\n",
    "    def __init__(self, n_feature, n_hidden, n_output):\n",
    "        # 定义层信息\n",
    "        super(Net, self).__init__()\n",
    "        self.hidden = torch.nn.Linear(n_feature, n_hidden)\n",
    "        self.predict = torch.nn.Linear(n_hidden, n_output)\n",
    "    \n",
    "    def forward(self, x):\n",
    "        # 定义层与层之间的前向连接\n",
    "        x = F.relu(self.hidden(x))\n",
    "        x = self.predict(x)\n",
    "        return x"
   ]
  },
  {
   "cell_type": "code",
   "execution_count": 3,
   "metadata": {
    "collapsed": false
   },
   "outputs": [],
   "source": [
    "net1 = Net(1, 10, 1)\n",
    "print(net1)\n",
    "\n",
    "# 训练参数\n",
    "optimizer = torch.optim.SGD(net1.parameters(), lr=0.1)\n",
    "loss_func = torch.nn.MSELoss()  # 回归任务常用的损失函数\n",
    "\n",
    "# plt.ion()  # 在jupyter中不好使\n",
    "for t in range(1000):\n",
    "    # 训练100次\n",
    "    prediction = net1(x)\n",
    "    loss = loss_func(prediction, y)  # 计算损失\n",
    "    optimizer.zero_grad()  # 清理上次反向传播梯度留下的梯度信息\n",
    "    loss.backward()  # 反向传播梯度\n",
    "    optimizer.step()  # 更新参数\n",
    "    \n",
    "    # 可视化训练过程\n",
    "    if t % 50 == 0:\n",
    "        plt.cla()\n",
    "        plt.scatter(x.data.numpy(), y.numpy())\n",
    "        plt.plot(x.data.numpy(), prediction.data.numpy(), 'r-', lw=5)\n",
    "        plt.text(0.5, 0, 'Loss=%.4f' % loss.item(), fontdict={'size':20, 'color': 'red'})\n",
    "        plt.pause(0.1)\n",
    "        plt.show()  # 在jupyter notebook中需要放在这个位置来把过程打印出来"
   ]
  },
  {
   "cell_type": "markdown",
   "metadata": {},
   "source": [
    "# 保存"
   ]
  },
  {
   "cell_type": "code",
   "execution_count": 4,
   "metadata": {
    "collapsed": false
   },
   "outputs": [],
   "source": [
    "torch.save(net1, 'net1.pkl')  # 保存整个模型\n",
    "torch.save(net1.state_dict(), 'net1_params.pkl')  # 保存模型参数"
   ]
  },
  {
   "cell_type": "markdown",
   "metadata": {},
   "source": [
    "# 导入"
   ]
  },
  {
   "cell_type": "code",
   "execution_count": 5,
   "metadata": {
    "collapsed": false,
    "scrolled": true
   },
   "outputs": [],
   "source": [
    "# 提取整个模型\n",
    "net2 = torch.load('net1.pkl')\n",
    "\n",
    "# 提取模型参数\n",
    "net3 = Net(1, 10 ,1)\n",
    "net3.load_state_dict(torch.load('net1_params.pkl'))\n",
    "\n",
    "x.detach() # stop x from tracking history\n",
    "# 可视化比较三个模型的功能，都是一样的\n",
    "plt.subplot(131)\n",
    "plt.title('net1')\n",
    "plt.scatter(x.data.numpy(), y.numpy())\n",
    "plt.plot(x.data.numpy(), net1(x).data.numpy(), 'r-', lw=5)\n",
    "plt.subplot(132)\n",
    "plt.title('net2')\n",
    "plt.scatter(x.data.numpy(), y.numpy())\n",
    "plt.plot(x.data.numpy(), net2(x).data.numpy(), 'r-', lw=5)\n",
    "plt.subplot(133)\n",
    "plt.title('net3')\n",
    "plt.scatter(x.data.numpy(), y.numpy())\n",
    "plt.plot(x.data.numpy(), net3(x).data.numpy(), 'r-', lw=5)"
   ]
  }
 ],
 "metadata": {
  "kernelspec": {
   "display_name": "Python 3",
   "language": "python",
   "name": "python3"
  },
  "language_info": {
   "codemirror_mode": {
    "name": "ipython",
    "version": 3
   },
   "file_extension": ".py",
   "mimetype": "text/x-python",
   "name": "python",
   "nbconvert_exporter": "python",
   "pygments_lexer": "ipython3",
   "version": "3.6.8"
  }
 },
 "nbformat": 4,
 "nbformat_minor": 2
}
